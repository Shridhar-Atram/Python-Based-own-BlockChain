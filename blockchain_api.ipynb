{
 "cells": [
  {
   "cell_type": "code",
   "execution_count": 32,
   "id": "946773c2",
   "metadata": {},
   "outputs": [],
   "source": [
    "import hashlib\n",
    "import time\n",
    "import pandas as pd\n"
   ]
  },
  {
   "cell_type": "code",
   "execution_count": 33,
   "id": "1c520fd7",
   "metadata": {},
   "outputs": [],
   "source": [
    "# Blockchain Class\n",
    "class Block:\n",
    "    def __init__(self, index, previous_hash, timestamp, data, hash):\n",
    "        self.index = index\n",
    "        self.previous_hash = previous_hash\n",
    "        self.timestamp = timestamp\n",
    "        self.data = data\n",
    "        self.hash = hash\n"
   ]
  },
  {
   "cell_type": "code",
   "execution_count": 34,
   "id": "16dcf502",
   "metadata": {},
   "outputs": [],
   "source": [
    "class Blockchain:\n",
    "    def __init__(self):\n",
    "        self.chain = []\n",
    "        self.create_genesis_block()\n",
    "\n",
    "    def create_genesis_block(self):\n",
    "        # Create the first block (genesis block)\n",
    "        genesis_block = Block(0, \"0\", time.time(), \"Genesis Block\", self.calculate_hash(0))\n",
    "        self.chain.append(genesis_block)\n",
    "\n",
    "    def create_block(self, data):\n",
    "        # Create a new block with transaction data\n",
    "        previous_block = self.chain[-1]\n",
    "        new_index = previous_block.index + 1\n",
    "        new_timestamp = time.time()\n",
    "        new_hash = self.calculate_hash(new_index)\n",
    "        new_block = Block(new_index, previous_block.hash, new_timestamp, data, new_hash)\n",
    "        self.chain.append(new_block)\n",
    "\n",
    "    def calculate_hash(self, index):\n",
    "        # Calculate the hash for a given block\n",
    "        return hashlib.sha256(str(index).encode()).hexdigest()\n",
    "\n",
    "    def display_blockchain(self):\n",
    "        # Display the blockchain with transaction details\n",
    "        for block in self.chain:\n",
    "            print(f\"Block {block.index} - {block.data}\")\n",
    "            print(f\"Hash: {block.hash}\")\n",
    "            print(\"----------\")"
   ]
  },
  {
   "cell_type": "code",
   "execution_count": 35,
   "id": "9d5c3818",
   "metadata": {},
   "outputs": [],
   "source": [
    "# Read transactions from the Excel file\n",
    "excel_file = 'Transaction_details.xlsx'\n",
    "sheet_name = 'transaction_details'\n",
    "transactions_df = pd.read_excel(excel_file, sheet_name)"
   ]
  },
  {
   "cell_type": "code",
   "execution_count": 36,
   "id": "d8793eec",
   "metadata": {},
   "outputs": [
    {
     "name": "stdout",
     "output_type": "stream",
     "text": [
      "Block 0 - Genesis Block\n",
      "Hash: 5feceb66ffc86f38d952786c6d696c79c2dbc239dd4e91b46729d73a27fb57e9\n",
      "----------\n",
      "Block 1 - {'TransactionNo': 581482, 'Date': Timestamp('2019-09-12 00:00:00'), 'ProductNo': 22485, 'ProductName': 'Set Of 2 Wooden Market Crates', 'Price': 21.47, 'Quantity': 12, 'CustomerNo': 17490, 'Country': 'United Kingdom'}\n",
      "Hash: 6b86b273ff34fce19d6b804eff5a3f5747ada4eaa22f1d49c01e52ddb7875b4b\n",
      "----------\n",
      "Block 2 - {'TransactionNo': 581475, 'Date': Timestamp('2019-09-12 00:00:00'), 'ProductNo': 22596, 'ProductName': 'Christmas Star Wish List Chalkboard', 'Price': 10.65, 'Quantity': 36, 'CustomerNo': 13069, 'Country': 'United Kingdom'}\n",
      "Hash: d4735e3a265e16eee03f59718b9b5d03019c07d8b6c51f90da3a666eec13ab35\n",
      "----------\n",
      "Block 3 - {'TransactionNo': 581475, 'Date': Timestamp('2019-09-12 00:00:00'), 'ProductNo': 23235, 'ProductName': 'Storage Tin Vintage Leaf', 'Price': 11.53, 'Quantity': 12, 'CustomerNo': 13069, 'Country': 'United Kingdom'}\n",
      "Hash: 4e07408562bedb8b60ce05c1decfe3ad16b72230967de01f640b7e4729b49fce\n",
      "----------\n",
      "Block 4 - {'TransactionNo': 581475, 'Date': Timestamp('2019-09-12 00:00:00'), 'ProductNo': 23272, 'ProductName': 'Tree T-Light Holder Willie Winkie', 'Price': 10.65, 'Quantity': 12, 'CustomerNo': 13069, 'Country': 'United Kingdom'}\n",
      "Hash: 4b227777d4dd1fc61c6f884f48641d02b4d121d3fd328cb08b5531fcacdabf8a\n",
      "----------\n",
      "Block 5 - {'TransactionNo': 581475, 'Date': Timestamp('2019-09-12 00:00:00'), 'ProductNo': 23239, 'ProductName': 'Set Of 4 Knick Knack Tins Poppies', 'Price': 11.94, 'Quantity': 6, 'CustomerNo': 13069, 'Country': 'United Kingdom'}\n",
      "Hash: ef2d127de37b942baad06145e54b0c619a1f22327b2ebbcfbec78f5564afe39d\n",
      "----------\n",
      "Block 6 - {'TransactionNo': 581475, 'Date': Timestamp('2019-09-12 00:00:00'), 'ProductNo': 21705, 'ProductName': 'Bag 500g Swirly Marbles', 'Price': 10.65, 'Quantity': 24, 'CustomerNo': 13069, 'Country': 'United Kingdom'}\n",
      "Hash: e7f6c011776e8db7cd330b54174fd76f7d0216b612387a5ffcfb81e6f0919683\n",
      "----------\n",
      "Block 7 - {'TransactionNo': 581475, 'Date': Timestamp('2019-09-12 00:00:00'), 'ProductNo': 22118, 'ProductName': 'Joy Wooden Block Letters', 'Price': 11.53, 'Quantity': 18, 'CustomerNo': 13069, 'Country': 'United Kingdom'}\n",
      "Hash: 7902699be42c8a8e46fbbb4501726517e86b22c56a189f7625a6da49081b2451\n",
      "----------\n",
      "Block 8 - {'TransactionNo': 581475, 'Date': Timestamp('2019-09-12 00:00:00'), 'ProductNo': 22119, 'ProductName': 'Peace Wooden Block Letters', 'Price': 12.25, 'Quantity': 12, 'CustomerNo': 13069, 'Country': 'United Kingdom'}\n",
      "Hash: 2c624232cdd221771294dfbb310aca000a0df6ac8b66b696d90ef06fdefb64a3\n",
      "----------\n",
      "Block 9 - {'TransactionNo': 581475, 'Date': Timestamp('2019-09-12 00:00:00'), 'ProductNo': 22217, 'ProductName': 'T-Light Holder Hanging Lace', 'Price': 10.65, 'Quantity': 12, 'CustomerNo': 13069, 'Country': 'United Kingdom'}\n",
      "Hash: 19581e27de7ced00ff1ce50b2047e7a567c76b1cbaebabe5ef03f7c3017bb5b7\n",
      "----------\n",
      "Block 10 - {'TransactionNo': 581475, 'Date': Timestamp('2019-09-12 00:00:00'), 'ProductNo': 22216, 'ProductName': 'T-Light Holder White Lace', 'Price': 10.55, 'Quantity': 24, 'CustomerNo': 13069, 'Country': 'United Kingdom'}\n",
      "Hash: 4a44dc15364204a80fe80e9039455cc1608281820fe2b24f1e5233ade6af1dd5\n",
      "----------\n",
      "Block 11 - {'TransactionNo': 581475, 'Date': Timestamp('2019-09-12 00:00:00'), 'ProductNo': 22380, 'ProductName': 'Toy Tidy Spaceboy', 'Price': 11.06, 'Quantity': 20, 'CustomerNo': 13069, 'Country': 'United Kingdom'}\n",
      "Hash: 4fc82b26aecb47d2868c4efbe3581732a3e7cbcc6c2efb32062c08170a05eeb8\n",
      "----------\n",
      "Block 12 - {'TransactionNo': 581475, 'Date': Timestamp('2019-09-12 00:00:00'), 'ProductNo': 22442, 'ProductName': 'Grow Your Own Flowers Set Of 3', 'Price': 12.25, 'Quantity': 12, 'CustomerNo': 13069, 'Country': 'United Kingdom'}\n",
      "Hash: 6b51d431df5d7f141cbececcf79edf3dd861c3b4069f0b11661a3eefacbba918\n",
      "----------\n",
      "Block 13 - {'TransactionNo': 581475, 'Date': Timestamp('2019-09-12 00:00:00'), 'ProductNo': 22664, 'ProductName': 'Toy Tidy Dolly Girl Design', 'Price': 11.06, 'Quantity': 20, 'CustomerNo': 13069, 'Country': 'United Kingdom'}\n",
      "Hash: 3fdba35f04dc8c462986c992bcf875546257113072a909c162f7e470e581e278\n",
      "----------\n",
      "Block 14 - {'TransactionNo': 581475, 'Date': Timestamp('2019-09-12 00:00:00'), 'ProductNo': 22721, 'ProductName': 'Set Of 3 Cake Tins Sketchbook', 'Price': 12.25, 'Quantity': 12, 'CustomerNo': 13069, 'Country': 'United Kingdom'}\n",
      "Hash: 8527a891e224136950ff32ca212b45bc93f69fbb801c3b1ebedac52775f99e61\n",
      "----------\n",
      "Block 15 - {'TransactionNo': 581476, 'Date': Timestamp('2019-09-13 00:00:00'), 'ProductNo': 22722, 'ProductName': 'Set Of 3 Cake Tins Sketchbook', 'Price': 12.25, 'Quantity': 12, 'CustomerNo': 13069, 'Country': 'United Kingdom'}\n",
      "Hash: e629fa6598d732768f7c726b4b621285f9c3b85303900aa912017db7617d8bdb\n",
      "----------\n"
     ]
    }
   ],
   "source": [
    "# Convert transactions to a list of dictionaries\n",
    "transactions = transactions_df.to_dict(orient='records')\n",
    "\n",
    "# Create a blockchain\n",
    "shop_blockchain = Blockchain()\n",
    "\n",
    "# Add transactions to the blockchain\n",
    "for transaction in transactions:\n",
    "    shop_blockchain.create_block(transaction)\n",
    "\n",
    "# Display the blockchain with transaction details\n",
    "shop_blockchain.display_blockchain()"
   ]
  },
  {
   "cell_type": "code",
   "execution_count": null,
   "id": "9c8ac804",
   "metadata": {},
   "outputs": [],
   "source": []
  },
  {
   "cell_type": "code",
   "execution_count": null,
   "id": "4da1f2a3",
   "metadata": {},
   "outputs": [],
   "source": []
  },
  {
   "cell_type": "code",
   "execution_count": null,
   "id": "d02f170f",
   "metadata": {},
   "outputs": [],
   "source": []
  }
 ],
 "metadata": {
  "kernelspec": {
   "display_name": "Python 3 (ipykernel)",
   "language": "python",
   "name": "python3"
  },
  "language_info": {
   "codemirror_mode": {
    "name": "ipython",
    "version": 3
   },
   "file_extension": ".py",
   "mimetype": "text/x-python",
   "name": "python",
   "nbconvert_exporter": "python",
   "pygments_lexer": "ipython3",
   "version": "3.10.9"
  }
 },
 "nbformat": 4,
 "nbformat_minor": 5
}
